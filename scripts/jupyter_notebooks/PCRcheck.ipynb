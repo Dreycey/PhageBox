{
 "cells": [
  {
   "cell_type": "markdown",
   "metadata": {},
   "source": [
    "# Primer and RE viewer\n",
    "\n",
    "The goal of this notebook is to give someone the ability to look at whether any existing primers or restriction enzymes will amlpify or a cut input genomes."
   ]
  },
  {
   "cell_type": "code",
   "execution_count": 1,
   "metadata": {},
   "outputs": [],
   "source": [
    "# imports\n",
    "from Bio.Seq import Seq\n",
    "from Bio import SeqIO\n",
    "import numpy as np\n",
    "import matplotlib.pyplot as plt"
   ]
  },
  {
   "cell_type": "code",
   "execution_count": 2,
   "metadata": {},
   "outputs": [
    {
     "name": "stdout",
     "output_type": "stream",
     "text": [
      "('GTCAATTTGCCTCCGTACGT', 'CCCGCCTCTCACTAGAAGTG')\n",
      "('GCGGTGTAGACCCACATCTT', 'ACCGACGACGAGGTTATGTC')\n",
      "('ATGGTTGCCTACGGACTGTC', 'CGAACGACTTGAAGGCTTTC')\n",
      "('GATGGTTGCCTACGGACTGT', 'GAACGACTTGAAGGCTTTCG')\n",
      "('CCACAGGTCAGAGGTGGTTT', 'GCCTTCAGCCTCAGTTTCAC')\n",
      "('CGAAAACACATGTCCGACAC', 'CTCCGAAGACCTACGACGAG')\n",
      "('CAAACTGCGCAACTCGTGAA', 'GACAGGCGAATCGCAATCAC')\n",
      "('GGACAATTCGCACGATTCCG', 'GCAGCGCATGTCTTCTTAGC')\n",
      "('TTCTGTGCCGCGTTTCTTTG', 'CCACTGCAACAACTGAACGG')\n"
     ]
    }
   ],
   "source": [
    "# open primers.\n",
    "primer_structure = {\"F\" : [], \"R\" : []}\n",
    "\n",
    "def get_primers(primer_csv):\n",
    "    \"\"\"\n",
    "    parses a primer CSV to grab all primers.\n",
    "    \"\"\"\n",
    "    primer_struct={}\n",
    "    name_col = 0\n",
    "    f_col, r_col = 1,2\n",
    "    with open(primer_csv) as primer_csv:\n",
    "        primer_csv = primer_csv.readlines()\n",
    "        for index, primer in enumerate(primer_csv):\n",
    "            primer = primer.split(\",\")\n",
    "            name = primer[name_col]\n",
    "            if (len(name) < 1) or (index == 0): continue # skip header and empty rows\n",
    "            f_primer = primer[f_col]\n",
    "            r_primer = primer[r_col]\n",
    "            primer_struct[name] = (f_primer, r_primer)\n",
    "            print((f_primer, r_primer))\n",
    "            \n",
    "    return primer_struct\n",
    "    \n",
    "primers = get_primers(\"primer_db.csv\")"
   ]
  },
  {
   "cell_type": "code",
   "execution_count": 3,
   "metadata": {},
   "outputs": [],
   "source": [
    "full_path = 'genomes/'\n",
    "genome_paths = [#f\"{full_path}/blessica.fa\", \n",
    "#                 f\"{full_path}/d29.fa\",\n",
    "#                 f\"{full_path}/perseus.fa\",\n",
    "#                 f\"{full_path}/abrogate.fa\",\n",
    "#                 f\"{full_path}/semperfi.fa\",\n",
    "#                 f\"{full_path}/meezee.fa\",\n",
    "#                 f\"{full_path}/rockstar.fa\",\n",
    "#                 f\"{full_path}/msmeg.fa\",\n",
    "#                 f\"{full_path}/ecoli.fa\",\n",
    "                f\"{full_path}/lambda.fa\",\n",
    "                f\"{full_path}/t7.fa\",\n",
    "                f\"{full_path}/phiX174.fa\"]"
   ]
  },
  {
   "cell_type": "markdown",
   "metadata": {},
   "source": [
    "# Primers"
   ]
  },
  {
   "cell_type": "code",
   "execution_count": 4,
   "metadata": {},
   "outputs": [
    {
     "name": "stdout",
     "output_type": "stream",
     "text": [
      "genomes//lambda.fa\n",
      "\t Perseus_0\n",
      "\t Perseus_1\n",
      "\t Blessica_0\n",
      "\t Blessica_1\n",
      "\t D29_0\n",
      "\t D29_1\n",
      "\t Lambda\n",
      "\t\t HIT\n",
      "\t\t length: 822 bp\n",
      "\t\t forward start: 27943, back start: 28745\n",
      "\t phage\n",
      "\t Escherichia phage phiX174\n",
      "genomes//t7.fa\n",
      "\t Perseus_0\n",
      "\t Perseus_1\n",
      "\t Blessica_0\n",
      "\t Blessica_1\n",
      "\t D29_0\n",
      "\t D29_1\n",
      "\t Lambda\n",
      "\t phage\n",
      "\t\t HIT\n",
      "\t\t length: 570 bp\n",
      "\t\t forward start: 11566, back start: 12116\n",
      "\t Escherichia phage phiX174\n",
      "genomes//phiX174.fa\n",
      "\t Perseus_0\n",
      "\t Perseus_1\n",
      "\t Blessica_0\n",
      "\t Blessica_1\n",
      "\t D29_0\n",
      "\t D29_1\n",
      "\t Lambda\n",
      "\t phage\n",
      "\t Escherichia phage phiX174\n",
      "\t\t HIT\n",
      "\t\t length: 397 bp\n",
      "\t\t forward start: 1812, back start: 2189\n"
     ]
    }
   ],
   "source": [
    "genome_index = 0\n",
    "primer_index = 0\n",
    "binding_array = np.zeros((len(genome_paths), len(primers.keys())))\n",
    "for genome in genome_paths:\n",
    "    print(genome)\n",
    "    # Open genome.\n",
    "    record = SeqIO.read(genome, \"fasta\")\n",
    "    seq = record.seq\n",
    "    # get rev compliment\n",
    "    seq_comp = seq.reverse_complement()\n",
    "    primer_index = 0\n",
    "    for primer_name, primer_pairs in primers.items(): \n",
    "        f_primer, r_primer = primer_pairs\n",
    "        #f_primer = Seq(f_primer).reverse_complement()\n",
    "        F_pos = seq.find(f_primer)\n",
    "        R_pos = seq.find(Seq(r_primer).reverse_complement())\n",
    "        print(f\"\\t {primer_name}\")\n",
    "#         print(f\"\\t\\t forward start: {F_pos}, back start: {R_pos}\")\n",
    "        if (F_pos != -1) and (R_pos != -1):\n",
    "            binding_array[genome_index][primer_index] = 1\n",
    "            print(\"\\t\\t HIT\")\n",
    "            print(f\"\\t\\t length: {R_pos - (F_pos - len(f_primer))} bp\")\n",
    "            print(f\"\\t\\t forward start: {F_pos}, back start: {R_pos}\")\n",
    "        primer_index += 1\n",
    "    genome_index += 1"
   ]
  },
  {
   "cell_type": "code",
   "execution_count": 5,
   "metadata": {},
   "outputs": [
    {
     "data": {
      "text/plain": [
       "Text(0.5, 0, 'primer pair')"
      ]
     },
     "execution_count": 5,
     "metadata": {},
     "output_type": "execute_result"
    },
    {
     "data": {
      "image/png": "[encoded data removed]",
      "text/plain": [
       "<Figure size 432x288 with 1 Axes>"
      ]
     },
     "metadata": {
      "needs_background": "light"
     },
     "output_type": "display_data"
    }
   ],
   "source": [
    "plt.imshow(binding_array)\n",
    "plt.yticks(np.arange(len(genome_paths)), genome_paths)\n",
    "plt.xticks(np.arange(len(primers.keys())), primers.keys(), rotation=75)\n",
    "plt.ylabel(\"genome\")\n",
    "plt.xlabel(\"primer pair\")"
   ]
  },
  {
   "cell_type": "markdown",
   "metadata": {},
   "source": [
    "## Restriction Enzymes"
   ]
  },
  {
   "cell_type": "code",
   "execution_count": 6,
   "metadata": {},
   "outputs": [],
   "source": [
    "def find_binding_regions(re_seq, genome):\n",
    "    \"\"\"\n",
    "    Description:\n",
    "        This method find forward and reverse regions for \n",
    "        RE binding.\n",
    "    Input:\n",
    "        1. RE site (str)\n",
    "        2. genome sequence (str)\n",
    "    Output:\n",
    "        1. List of cut sites\n",
    "    \"\"\"\n",
    "    # init structures\n",
    "    cut_sites = []\n",
    "    genome_f = list(genome)\n",
    "    # find reverse sites\n",
    "    for genome_index in range(0, len(genome_f) - len(re_seq)):\n",
    "        genome_subseq_f = \"\".join(genome_f[genome_index:genome_index+len(re_seq)])\n",
    "        if re_seq == genome_subseq_f: cut_sites.append(genome_index + 3)\n",
    "    return cut_sites"
   ]
  },
  {
   "cell_type": "code",
   "execution_count": 7,
   "metadata": {},
   "outputs": [
    {
     "name": "stdout",
     "output_type": "stream",
     "text": [
      "genomes//lambda.fa\n",
      "\t BamHI\n",
      "\t\t cut sites: [5507, 22348, 27974, 34501, 41734]\n",
      "\t EcoRI\n",
      "\t\t cut sites: [21228, 26106, 31749, 39170, 44974]\n",
      "\t BSU15i\n",
      "\t\t cut sites: [4200, 15585, 16122, 26618, 30291, 31992, 32965, 33586, 34698, 35052, 36967, 41365, 42022, 43826, 46440]\n",
      "\t BSURi\n",
      "\t\t cut sites: [148, 405, 471, 783, 886, 1108, 1329, 1487, 1956, 2000, 2041, 2209, 2742, 2869, 3263, 3299, 3995, 4091, 4196, 4461, 4525, 4635, 5182, 5238, 5589, 5604, 6011, 6102, 6499, 6599, 6880, 7167, 7177, 7582, 7587, 7981, 8002, 8059, 8152, 8167, 8188, 8369, 8862, 9505, 9987, 10089, 10435, 10591, 10612, 10780, 10915, 11365, 11629, 12262, 12437, 12718, 13030, 13079, 13263, 13484, 13937, 14370, 14578, 14906, 15062, 15167, 15604, 15998, 16322, 16419, 16769, 17294, 17516, 17850, 17912, 18147, 18308, 18341, 18550, 19026, 19287, 19335, 19947, 20077, 20188, 20242, 20326, 20344, 20371, 20931, 20991, 21219, 21234, 21263, 21606, 22028, 22534, 26626, 28410, 28621, 28732, 28903, 31269, 31481, 31563, 31584, 31649, 31794, 31879, 32090, 32324, 32388, 32647, 32944, 33000, 33440, 33544, 33629, 34081, 34608, 35022, 35468, 35820, 36043, 36405, 36445, 36657, 36788, 37248, 38138, 38151, 39461, 39995, 40078, 40114, 40386, 40599, 40617, 40795, 40937, 43036, 43953, 44260, 45000, 45217, 45738, 46722, 47655, 48426]\n",
      "\t Hind3\n",
      "\t\t cut sites: [23132, 25159, 27481, 36897, 37461, 44143]\n",
      "genomes//t7.fa\n",
      "\t BamHI\n",
      "\t\t cut sites: []\n",
      "\t EcoRI\n",
      "\t\t cut sites: []\n",
      "\t BSU15i\n",
      "\t\t cut sites: [22858, 27101, 37081]\n",
      "\t BSURi\n",
      "\t\t cut sites: [1462, 2772, 3132, 3283, 3601, 4408, 4745, 5881, 6442, 6792, 7119, 7367, 7580, 10310, 11297, 12793, 13378, 13443, 13886, 14990, 15279, 17071, 17247, 17673, 17817, 18217, 18334, 18459, 18557, 18759, 18784, 19022, 19557, 20566, 21717, 22165, 23481, 23836, 23950, 24017, 24092, 24182, 24964, 25862, 27798, 28425, 29436, 30492, 30589, 30782, 31563, 32714, 33430, 34961, 35541, 35933, 35942, 36153, 36741, 36834, 37759, 38039, 38298, 38316, 38380, 38805, 39683, 39723]\n",
      "\t Hind3\n",
      "\t\t cut sites: []\n",
      "genomes//phiX174.fa\n",
      "\t BamHI\n",
      "\t\t cut sites: []\n",
      "\t EcoRI\n",
      "\t\t cut sites: []\n",
      "\t BSU15i\n",
      "\t\t cut sites: []\n",
      "\t BSURi\n",
      "\t\t cut sites: [436, 670, 980, 1174, 1777, 3130, 4208, 4489, 4760, 4878, 4950]\n",
      "\t Hind3\n",
      "\t\t cut sites: []\n"
     ]
    }
   ],
   "source": [
    "re_db = {\"BamHI\": \"GGATCC\", \n",
    "         \"EcoRI\": \"GAATTC\", \n",
    "         \"BSU15i\" : \"ATCGAT\",\n",
    "         \"BSURi\" : \"GGCC\" , \n",
    "         \"Hind3\" : \"AAGCTT\"}\n",
    "\n",
    "for genome in genome_paths:\n",
    "    print(genome)\n",
    "    # Open genome.\n",
    "    record = SeqIO.read(genome, \"fasta\")\n",
    "    seq = record.seq\n",
    "    for re_name, re_seq in re_db.items(): \n",
    "        cut_sites = find_binding_regions(re_seq, seq)\n",
    "        print(f\"\\t {re_name}\")\n",
    "        print(f\"\\t\\t cut sites: {cut_sites}\")"
   ]
  },
  {
   "cell_type": "code",
   "execution_count": 9,
   "metadata": {},
   "outputs": [
    {
     "ename": "IndentationError",
     "evalue": "unindent does not match any outer indentation level (<tokenize>, line 11)",
     "output_type": "error",
     "traceback": [
      "\u001b[0;36m  File \u001b[0;32m\"<tokenize>\"\u001b[0;36m, line \u001b[0;32m11\u001b[0m\n\u001b[0;31m    BSU15i\u001b[0m\n\u001b[0m    ^\u001b[0m\n\u001b[0;31mIndentationError\u001b[0m\u001b[0;31m:\u001b[0m unindent does not match any outer indentation level\n"
     ]
    }
   ],
   "source": [
    "genomes//lambda.fa\n",
    "\t BamHI\n",
    "\t\t cut sites: [5507, 22348, 27974, 34501, 41734]\n",
    "\t BSU15i\n",
    "\t\t cut sites: [4200, 15585, 16122, 26618, 30291, 31992, 32965, 33586, 34698, 35052, 36967, 41365, 42022, 43826, 46440]\n",
    "\t BSURi\n",
    "\t\t cut sites: [148, 405, 471, 783, 886, 1108, 1329, 1487, 1956, 2000, 2041, 2209, 2742, 2869, 3263, 3299, 3995, 4091, 4196, 4461, 4525, 4635, 5182, 5238, 5589, 5604, 6011, 6102, 6499, 6599, 6880, 7167, 7177, 7582, 7587, 7981, 8002, 8059, 8152, 8167, 8188, 8369, 8862, 9505, 9987, 10089, 10435, 10591, 10612, 10780, 10915, 11365, 11629, 12262, 12437, 12718, 13030, 13079, 13263, 13484, 13937, 14370, 14578, 14906, 15062, 15167, 15604, 15998, 16322, 16419, 16769, 17294, 17516, 17850, 17912, 18147, 18308, 18341, 18550, 19026, 19287, 19335, 19947, 20077, 20188, 20242, 20326, 20344, 20371, 20931, 20991, 21219, 21234, 21263, 21606, 22028, 22534, 26626, 28410, 28621, 28732, 28903, 31269, 31481, 31563, 31584, 31649, 31794, 31879, 32090, 32324, 32388, 32647, 32944, 33000, 33440, 33544, 33629, 34081, 34608, 35022, 35468, 35820, 36043, 36405, 36445, 36657, 36788, 37248, 38138, 38151, 39461, 39995, 40078, 40114, 40386, 40599, 40617, 40795, 40937, 43036, 43953, 44260, 45000, 45217, 45738, 46722, 47655, 48426]\n",
    "genomes//t7.fa \n",
    "\tBamHI\n",
    "\t\t cut sites: []\n",
    "    BSU15i\n",
    "\t\t cut sites: [22858, 27101, 37081]\n",
    "    BSURi\n",
    "\t\t cut sites: [1462, 2772, 3132, 3283, 3601, 4408, 4745, 5881, 6442, 6792, 7119, 7367, 7580, 10310, 11297, 12793, 13378, 13443, 13886, 14990, 15279, 17071, 17247, 17673, 17817, 18217, 18334, 18459, 18557, 18759, 18784, 19022, 19557, 20566, 21717, 22165, 23481, 23836, 23950, 24017, 24092, 24182, 24964, 25862, 27798, 28425, 29436, 30492, 30589, 30782, 31563, 32714, 33430, 34961, 35541, 35933, 35942, 36153, 36741, 36834, 37759, 38039, 38298, 38316, 38380, 38805, 39683, 39723\n",
    "genomes//phiX174.fa\n",
    "\t BamHI\n",
    "\t\t cut sites: []\n",
    "\t BSU15i\n",
    "\t\t cut sites: []\n",
    "\t BSURi\n",
    "\t\t cut sites: [436, 670, 980, 1174, 1777, 3130, 4208, 4489, 4760, 4878, 4950]"
   ]
  },
  {
   "cell_type": "code",
   "execution_count": null,
   "metadata": {},
   "outputs": [],
   "source": []
  },
  {
   "cell_type": "code",
   "execution_count": null,
   "metadata": {},
   "outputs": [],
   "source": []
  },
  {
   "cell_type": "code",
   "execution_count": null,
   "metadata": {},
   "outputs": [],
   "source": []
  }
 ],
 "metadata": {
  "kernelspec": {
   "display_name": "Python 3",
   "language": "python",
   "name": "python3"
  },
  "language_info": {
   "codemirror_mode": {
    "name": "ipython",
    "version": 3
   },
   "file_extension": ".py",
   "mimetype": "text/x-python",
   "name": "python",
   "nbconvert_exporter": "python",
   "pygments_lexer": "ipython3",
   "version": "3.7.9"
  }
 },
 "nbformat": 4,
 "nbformat_minor": 4
}
